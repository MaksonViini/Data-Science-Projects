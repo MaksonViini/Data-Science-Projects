{
 "cells": [
  {
   "cell_type": "code",
   "execution_count": 1,
   "metadata": {},
   "outputs": [],
   "source": [
    "import pandas as pd"
   ]
  },
  {
   "cell_type": "code",
   "execution_count": 2,
   "metadata": {},
   "outputs": [],
   "source": [
    "data = pd.read_json('Data/metadata.json')"
   ]
  },
  {
   "cell_type": "code",
   "execution_count": 3,
   "metadata": {},
   "outputs": [
    {
     "data": {
      "text/html": [
       "<div>\n",
       "<style scoped>\n",
       "    .dataframe tbody tr th:only-of-type {\n",
       "        vertical-align: middle;\n",
       "    }\n",
       "\n",
       "    .dataframe tbody tr th {\n",
       "        vertical-align: top;\n",
       "    }\n",
       "\n",
       "    .dataframe thead th {\n",
       "        text-align: right;\n",
       "    }\n",
       "</style>\n",
       "<table border=\"1\" class=\"dataframe\">\n",
       "  <thead>\n",
       "    <tr style=\"text-align: right;\">\n",
       "      <th></th>\n",
       "      <th>total_rows</th>\n",
       "      <th>offset</th>\n",
       "      <th>rows</th>\n",
       "    </tr>\n",
       "  </thead>\n",
       "  <tbody>\n",
       "    <tr>\n",
       "      <th>0</th>\n",
       "      <td>2736</td>\n",
       "      <td>0</td>\n",
       "      <td>{'id': '0946ab71f92ea0439de576ca08cc580f', 'ke...</td>\n",
       "    </tr>\n",
       "    <tr>\n",
       "      <th>1</th>\n",
       "      <td>2736</td>\n",
       "      <td>0</td>\n",
       "      <td>{'id': '0946ab71f92ea0439de576ca08cc65ec', 'ke...</td>\n",
       "    </tr>\n",
       "    <tr>\n",
       "      <th>2</th>\n",
       "      <td>2736</td>\n",
       "      <td>0</td>\n",
       "      <td>{'id': '0946ab71f92ea0439de576ca08cc67d3', 'ke...</td>\n",
       "    </tr>\n",
       "    <tr>\n",
       "      <th>3</th>\n",
       "      <td>2736</td>\n",
       "      <td>0</td>\n",
       "      <td>{'id': '0946ab71f92ea0439de576ca08cc6866', 'ke...</td>\n",
       "    </tr>\n",
       "    <tr>\n",
       "      <th>4</th>\n",
       "      <td>2736</td>\n",
       "      <td>0</td>\n",
       "      <td>{'id': '0946ab71f92ea0439de576ca08cc71c0', 'ke...</td>\n",
       "    </tr>\n",
       "    <tr>\n",
       "      <th>...</th>\n",
       "      <td>...</td>\n",
       "      <td>...</td>\n",
       "      <td>...</td>\n",
       "    </tr>\n",
       "    <tr>\n",
       "      <th>2731</th>\n",
       "      <td>2736</td>\n",
       "      <td>0</td>\n",
       "      <td>{'id': 'f60828c77e4ad22dc8621a78873ba9c2', 'ke...</td>\n",
       "    </tr>\n",
       "    <tr>\n",
       "      <th>2732</th>\n",
       "      <td>2736</td>\n",
       "      <td>0</td>\n",
       "      <td>{'id': 'f60828c77e4ad22dc8621a78873bacef', 'ke...</td>\n",
       "    </tr>\n",
       "    <tr>\n",
       "      <th>2733</th>\n",
       "      <td>2736</td>\n",
       "      <td>0</td>\n",
       "      <td>{'id': 'f60828c77e4ad22dc8621a78873bb640', 'ke...</td>\n",
       "    </tr>\n",
       "    <tr>\n",
       "      <th>2734</th>\n",
       "      <td>2736</td>\n",
       "      <td>0</td>\n",
       "      <td>{'id': 'f60828c77e4ad22dc8621a78873bc2d8', 'ke...</td>\n",
       "    </tr>\n",
       "    <tr>\n",
       "      <th>2735</th>\n",
       "      <td>2736</td>\n",
       "      <td>0</td>\n",
       "      <td>{'id': 'f60828c77e4ad22dc8621a78873bddae', 'ke...</td>\n",
       "    </tr>\n",
       "  </tbody>\n",
       "</table>\n",
       "<p>2736 rows × 3 columns</p>\n",
       "</div>"
      ],
      "text/plain": [
       "      total_rows  offset                                               rows\n",
       "0           2736       0  {'id': '0946ab71f92ea0439de576ca08cc580f', 'ke...\n",
       "1           2736       0  {'id': '0946ab71f92ea0439de576ca08cc65ec', 'ke...\n",
       "2           2736       0  {'id': '0946ab71f92ea0439de576ca08cc67d3', 'ke...\n",
       "3           2736       0  {'id': '0946ab71f92ea0439de576ca08cc6866', 'ke...\n",
       "4           2736       0  {'id': '0946ab71f92ea0439de576ca08cc71c0', 'ke...\n",
       "...          ...     ...                                                ...\n",
       "2731        2736       0  {'id': 'f60828c77e4ad22dc8621a78873ba9c2', 'ke...\n",
       "2732        2736       0  {'id': 'f60828c77e4ad22dc8621a78873bacef', 'ke...\n",
       "2733        2736       0  {'id': 'f60828c77e4ad22dc8621a78873bb640', 'ke...\n",
       "2734        2736       0  {'id': 'f60828c77e4ad22dc8621a78873bc2d8', 'ke...\n",
       "2735        2736       0  {'id': 'f60828c77e4ad22dc8621a78873bddae', 'ke...\n",
       "\n",
       "[2736 rows x 3 columns]"
      ]
     },
     "execution_count": 3,
     "metadata": {},
     "output_type": "execute_result"
    }
   ],
   "source": [
    "data"
   ]
  }
 ],
 "metadata": {
  "interpreter": {
   "hash": "916dbcbb3f70747c44a77c7bcd40155683ae19c65e1c03b4aa3499c5328201f1"
  },
  "kernelspec": {
   "display_name": "Python 3.9.5 64-bit",
   "language": "python",
   "name": "python3"
  },
  "language_info": {
   "codemirror_mode": {
    "name": "ipython",
    "version": 3
   },
   "file_extension": ".py",
   "mimetype": "text/x-python",
   "name": "python",
   "nbconvert_exporter": "python",
   "pygments_lexer": "ipython3",
   "version": "3.9.5"
  },
  "orig_nbformat": 4
 },
 "nbformat": 4,
 "nbformat_minor": 2
}
