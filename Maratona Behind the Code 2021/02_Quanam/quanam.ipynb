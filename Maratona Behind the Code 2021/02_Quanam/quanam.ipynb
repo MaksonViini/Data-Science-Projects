{
 "cells": [
  {
   "cell_type": "code",
   "execution_count": 155,
   "metadata": {},
   "outputs": [],
   "source": [
    "import pandas as pd\n",
    "import json\n",
    "from sklearn.model_selection import train_test_split\n",
    "from sklearn.linear_model import LinearRegression\n",
    "from sklearn.metrics import mean_squared_error, r2_score, log_loss\n",
    "from lightgbm import LGBMRegressor"
   ]
  },
  {
   "cell_type": "code",
   "execution_count": 129,
   "metadata": {},
   "outputs": [],
   "source": [
    "arq_json = '/home/maksonvinicio/Documents/GitHub/Data-Science-Projects/Maratona Behind the Code 2021/02_Quanam/Data/metadata.json'\n",
    "with open(arq_json, 'r', encoding='utf8') as f:\n",
    "    data = json.load(f)\n",
    "data = dict(data)\n",
    "\n",
    "data = data.get('rows')"
   ]
  },
  {
   "cell_type": "code",
   "execution_count": 130,
   "metadata": {},
   "outputs": [],
   "source": [
    "docs = [data[val]['doc']['payload'] for val in range(2400)]\n",
    "\n",
    "list_json = [json.loads(docs[val]) for val in range(len(docs))]"
   ]
  },
  {
   "cell_type": "code",
   "execution_count": 140,
   "metadata": {},
   "outputs": [],
   "source": [
    "df = pd.DataFrame(list_json)\n",
    "df = df.astype(float)"
   ]
  },
  {
   "cell_type": "code",
   "execution_count": 145,
   "metadata": {},
   "outputs": [],
   "source": [
    "X = df.drop(['RYTHM', 'ID'], axis=1)\n",
    "y = df['RYTHM']\n",
    "\n",
    "X_train, X_val, y_train, y_val = train_test_split(X, y, test_size=0.2, random_state=42)"
   ]
  },
  {
   "cell_type": "markdown",
   "metadata": {},
   "source": [
    "# 1.0 - Baseline\n",
    "\n",
    "Target metrics: R2 Score"
   ]
  },
  {
   "cell_type": "code",
   "execution_count": 147,
   "metadata": {},
   "outputs": [],
   "source": [
    "lr = LinearRegression().fit(X_train, y_train)"
   ]
  },
  {
   "cell_type": "code",
   "execution_count": 165,
   "metadata": {},
   "outputs": [],
   "source": [
    "def predict_rythm(model, X):\n",
    "    return model.predict(X)\n",
    "\n",
    "def print_metrics(y_true, y_pred):\n",
    "    print('MSE:', mean_squared_error(y_true, y_pred))\n",
    "    print('R2:', r2_score(y_true, y_pred))\n",
    "    print(\"Root Mean Squared Error: \", mean_squared_error(y_true, y_pred) ** 0.5)"
   ]
  },
  {
   "cell_type": "code",
   "execution_count": 166,
   "metadata": {},
   "outputs": [
    {
     "name": "stdout",
     "output_type": "stream",
     "text": [
      "MSE: 33.476889580263894\n",
      "R2: 0.17266289147720482\n",
      "Root Mean Squared Error:  5.785921670768097\n"
     ]
    }
   ],
   "source": [
    "y_pred = predict_rythm(lr, X_val)\n",
    "print_metrics(y_val, y_pred)"
   ]
  },
  {
   "cell_type": "markdown",
   "metadata": {},
   "source": [
    "# 2.0 - Model"
   ]
  },
  {
   "cell_type": "code",
   "execution_count": 164,
   "metadata": {},
   "outputs": [],
   "source": [
    "lgbm = LGBMRegressor(objective='regression', num_leaves=5,).fit(X_train, y_train)"
   ]
  },
  {
   "cell_type": "code",
   "execution_count": 167,
   "metadata": {},
   "outputs": [
    {
     "name": "stdout",
     "output_type": "stream",
     "text": [
      "MSE: 34.31229188166337\n",
      "R2: 0.1520170270268647\n",
      "Root Mean Squared Error:  5.857669492354734\n"
     ]
    }
   ],
   "source": [
    "y_pred = predict_rythm(lgbm, X_val)\n",
    "print_metrics(y_val, y_pred)"
   ]
  }
 ],
 "metadata": {
  "interpreter": {
   "hash": "916dbcbb3f70747c44a77c7bcd40155683ae19c65e1c03b4aa3499c5328201f1"
  },
  "kernelspec": {
   "display_name": "Python 3.9.5 64-bit",
   "language": "python",
   "name": "python3"
  },
  "language_info": {
   "codemirror_mode": {
    "name": "ipython",
    "version": 3
   },
   "file_extension": ".py",
   "mimetype": "text/x-python",
   "name": "python",
   "nbconvert_exporter": "python",
   "pygments_lexer": "ipython3",
   "version": "3.9.5"
  },
  "orig_nbformat": 4
 },
 "nbformat": 4,
 "nbformat_minor": 2
}
