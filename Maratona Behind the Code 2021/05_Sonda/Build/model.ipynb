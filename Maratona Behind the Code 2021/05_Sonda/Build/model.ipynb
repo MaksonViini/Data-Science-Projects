{
 "cells": [
  {
   "cell_type": "code",
   "execution_count": 3,
   "metadata": {},
   "outputs": [],
   "source": [
    "import pandas as pd\n",
    "import numpy as np\n",
    "import seaborn as sns\n",
    "import matplotlib.pyplot as plt\n",
    "\n",
    "from imblearn.over_sampling import SMOTENC\n",
    "from sklearn.model_selection import train_test_split, StratifiedKFold, cross_val_score\n",
    "\n",
    "from sklearn.preprocessing import OneHotEncoder\n",
    "\n",
    "from sklearn.compose import make_column_transformer\n",
    "from sklearn.pipeline import Pipeline\n",
    "\n",
    "from lightgbm import LGBMClassifier\n",
    "from sklearn.linear_model import LogisticRegression\n",
    "\n",
    "from keras.models import Sequential\n",
    "from keras.layers import Dense\n",
    "from keras.wrappers.scikit_learn import KerasClassifier\n",
    "\n",
    "from sklearn.metrics import classification_report, confusion_matrix, accuracy_score\n",
    "\n",
    "pd.set_option('display.max_columns', 100)\n",
    "pd.options.display.float_format = '{:.4f}'.format\n",
    "\n",
    "import warnings\n",
    "warnings.filterwarnings(\"ignore\")"
   ]
  },
  {
   "cell_type": "code",
   "execution_count": 27,
   "metadata": {},
   "outputs": [],
   "source": [
    "data = pd.read_csv('/home/maksonvinicio/Documents/GitHub/Data-Science-Projects/Maratona Behind the Code 2021/05_Sonda/Data/dataset.csv')\n",
    "answers = pd.read_csv('/home/maksonvinicio/Documents/GitHub/Data-Science-Projects/Maratona Behind the Code 2021/05_Sonda/Data/ANSWERS.csv')"
   ]
  },
  {
   "cell_type": "code",
   "execution_count": 5,
   "metadata": {},
   "outputs": [
    {
     "data": {
      "text/html": [
       "<div>\n",
       "<style scoped>\n",
       "    .dataframe tbody tr th:only-of-type {\n",
       "        vertical-align: middle;\n",
       "    }\n",
       "\n",
       "    .dataframe tbody tr th {\n",
       "        vertical-align: top;\n",
       "    }\n",
       "\n",
       "    .dataframe thead th {\n",
       "        text-align: right;\n",
       "    }\n",
       "</style>\n",
       "<table border=\"1\" class=\"dataframe\">\n",
       "  <thead>\n",
       "    <tr style=\"text-align: right;\">\n",
       "      <th></th>\n",
       "      <th>ID</th>\n",
       "      <th>GENDER</th>\n",
       "      <th>SENIORCITIZEN</th>\n",
       "      <th>PARTNER</th>\n",
       "      <th>DEPENDENTS</th>\n",
       "      <th>TENURE</th>\n",
       "      <th>PHONESERVICE</th>\n",
       "      <th>MULTIPLELINES</th>\n",
       "      <th>INTERNETSERVICE</th>\n",
       "      <th>ONLINESECURITY</th>\n",
       "      <th>ONLINEBACKUP</th>\n",
       "      <th>DEVICEPROTECTION</th>\n",
       "      <th>TECHSUPPORT</th>\n",
       "      <th>STREAMINGTV</th>\n",
       "      <th>STREAMINGMOVIES</th>\n",
       "      <th>CONTRACT</th>\n",
       "      <th>PAPERLESSBILLING</th>\n",
       "      <th>PAYMENTMETHOD</th>\n",
       "      <th>MONTHLYCHARGES</th>\n",
       "      <th>TOTALCHARGES</th>\n",
       "      <th>CHURN</th>\n",
       "    </tr>\n",
       "  </thead>\n",
       "  <tbody>\n",
       "    <tr>\n",
       "      <th>0</th>\n",
       "      <td>3418</td>\n",
       "      <td>Female</td>\n",
       "      <td>0.0000</td>\n",
       "      <td>No</td>\n",
       "      <td>No</td>\n",
       "      <td>26.0000</td>\n",
       "      <td>Yes</td>\n",
       "      <td>No</td>\n",
       "      <td>DSL</td>\n",
       "      <td>No</td>\n",
       "      <td>Yes</td>\n",
       "      <td>Yes</td>\n",
       "      <td>No</td>\n",
       "      <td>No</td>\n",
       "      <td>No</td>\n",
       "      <td>Month-to-month</td>\n",
       "      <td>Yes</td>\n",
       "      <td>Credit card (automatic)</td>\n",
       "      <td>131.5500</td>\n",
       "      <td>1483.7</td>\n",
       "      <td>No</td>\n",
       "    </tr>\n",
       "    <tr>\n",
       "      <th>1</th>\n",
       "      <td>6865</td>\n",
       "      <td>Male</td>\n",
       "      <td>0.0000</td>\n",
       "      <td>No</td>\n",
       "      <td>No</td>\n",
       "      <td>39.0000</td>\n",
       "      <td>Yes</td>\n",
       "      <td>Yes</td>\n",
       "      <td>Fiber optic</td>\n",
       "      <td>No</td>\n",
       "      <td>No</td>\n",
       "      <td>No</td>\n",
       "      <td>No</td>\n",
       "      <td>No</td>\n",
       "      <td>No</td>\n",
       "      <td>Month-to-month</td>\n",
       "      <td>Yes</td>\n",
       "      <td>Credit card (automatic)</td>\n",
       "      <td>79.6100</td>\n",
       "      <td>2737.31</td>\n",
       "      <td>No</td>\n",
       "    </tr>\n",
       "    <tr>\n",
       "      <th>2</th>\n",
       "      <td>2799</td>\n",
       "      <td>Male</td>\n",
       "      <td>0.0000</td>\n",
       "      <td>No</td>\n",
       "      <td>No</td>\n",
       "      <td>1.0000</td>\n",
       "      <td>Yes</td>\n",
       "      <td>No</td>\n",
       "      <td>No</td>\n",
       "      <td>No internet service</td>\n",
       "      <td>No internet service</td>\n",
       "      <td>No internet service</td>\n",
       "      <td>No internet service</td>\n",
       "      <td>No internet service</td>\n",
       "      <td>No internet service</td>\n",
       "      <td>Month-to-month</td>\n",
       "      <td>No</td>\n",
       "      <td>Credit card (automatic)</td>\n",
       "      <td>9.2600</td>\n",
       "      <td>9.26</td>\n",
       "      <td>No</td>\n",
       "    </tr>\n",
       "    <tr>\n",
       "      <th>3</th>\n",
       "      <td>1584</td>\n",
       "      <td>Male</td>\n",
       "      <td>0.0000</td>\n",
       "      <td>Yes</td>\n",
       "      <td>Yes</td>\n",
       "      <td>66.0000</td>\n",
       "      <td>Yes</td>\n",
       "      <td>Yes</td>\n",
       "      <td>No</td>\n",
       "      <td>No internet service</td>\n",
       "      <td>No internet service</td>\n",
       "      <td>No internet service</td>\n",
       "      <td>No internet service</td>\n",
       "      <td>No internet service</td>\n",
       "      <td>No internet service</td>\n",
       "      <td>Two year</td>\n",
       "      <td>Yes</td>\n",
       "      <td>Credit card (automatic)</td>\n",
       "      <td>42.1400</td>\n",
       "      <td>1689.19</td>\n",
       "      <td>No</td>\n",
       "    </tr>\n",
       "    <tr>\n",
       "      <th>4</th>\n",
       "      <td>9997</td>\n",
       "      <td>Male</td>\n",
       "      <td>0.0000</td>\n",
       "      <td>No</td>\n",
       "      <td>No</td>\n",
       "      <td>56.0000</td>\n",
       "      <td>Yes</td>\n",
       "      <td>Yes</td>\n",
       "      <td>Fiber optic</td>\n",
       "      <td>No</td>\n",
       "      <td>Yes</td>\n",
       "      <td>No</td>\n",
       "      <td>No</td>\n",
       "      <td>Yes</td>\n",
       "      <td>Yes</td>\n",
       "      <td>Month-to-month</td>\n",
       "      <td>No</td>\n",
       "      <td>Electronic check</td>\n",
       "      <td>126.2400</td>\n",
       "      <td>5608.69</td>\n",
       "      <td>No</td>\n",
       "    </tr>\n",
       "  </tbody>\n",
       "</table>\n",
       "</div>"
      ],
      "text/plain": [
       "     ID  GENDER  SENIORCITIZEN PARTNER DEPENDENTS  TENURE PHONESERVICE  \\\n",
       "0  3418  Female         0.0000      No         No 26.0000          Yes   \n",
       "1  6865    Male         0.0000      No         No 39.0000          Yes   \n",
       "2  2799    Male         0.0000      No         No  1.0000          Yes   \n",
       "3  1584    Male         0.0000     Yes        Yes 66.0000          Yes   \n",
       "4  9997    Male         0.0000      No         No 56.0000          Yes   \n",
       "\n",
       "  MULTIPLELINES INTERNETSERVICE       ONLINESECURITY         ONLINEBACKUP  \\\n",
       "0            No             DSL                   No                  Yes   \n",
       "1           Yes     Fiber optic                   No                   No   \n",
       "2            No              No  No internet service  No internet service   \n",
       "3           Yes              No  No internet service  No internet service   \n",
       "4           Yes     Fiber optic                   No                  Yes   \n",
       "\n",
       "      DEVICEPROTECTION          TECHSUPPORT          STREAMINGTV  \\\n",
       "0                  Yes                   No                   No   \n",
       "1                   No                   No                   No   \n",
       "2  No internet service  No internet service  No internet service   \n",
       "3  No internet service  No internet service  No internet service   \n",
       "4                   No                   No                  Yes   \n",
       "\n",
       "       STREAMINGMOVIES        CONTRACT PAPERLESSBILLING  \\\n",
       "0                   No  Month-to-month              Yes   \n",
       "1                   No  Month-to-month              Yes   \n",
       "2  No internet service  Month-to-month               No   \n",
       "3  No internet service        Two year              Yes   \n",
       "4                  Yes  Month-to-month               No   \n",
       "\n",
       "             PAYMENTMETHOD  MONTHLYCHARGES TOTALCHARGES CHURN  \n",
       "0  Credit card (automatic)        131.5500       1483.7    No  \n",
       "1  Credit card (automatic)         79.6100      2737.31    No  \n",
       "2  Credit card (automatic)          9.2600         9.26    No  \n",
       "3  Credit card (automatic)         42.1400      1689.19    No  \n",
       "4         Electronic check        126.2400      5608.69    No  "
      ]
     },
     "execution_count": 5,
     "metadata": {},
     "output_type": "execute_result"
    }
   ],
   "source": [
    "data.head()"
   ]
  },
  {
   "cell_type": "code",
   "execution_count": 28,
   "metadata": {},
   "outputs": [],
   "source": [
    "data = data.dropna(axis=0)\n",
    "data['TOTALCHARGES'] = data['TOTALCHARGES'].apply(lambda x: x.replace(' ', '9999999999'))\n",
    "data['TOTALCHARGES'] = data['TOTALCHARGES'].astype(float)\n",
    "data['TOTALCHARGES'] = data['TOTALCHARGES'].apply(lambda x: data['TOTALCHARGES'].median() if x == 9999999999 else x)\n",
    "\n",
    "data['CHURN'] = data['CHURN'].apply(lambda x: 1 if x == 'Yes' else 0)"
   ]
  },
  {
   "cell_type": "code",
   "execution_count": 29,
   "metadata": {},
   "outputs": [],
   "source": [
    "answers['TOTALCHARGES'] = answers['TOTALCHARGES'].apply(lambda x: x.replace(' ', '9999999999'))\n",
    "answers['TOTALCHARGES'] = answers['TOTALCHARGES'].astype(float)\n",
    "answers['TOTALCHARGES'] = answers['TOTALCHARGES'].apply(lambda x: answers['TOTALCHARGES'].median() if x == 9999999999 else x)"
   ]
  },
  {
   "cell_type": "code",
   "execution_count": 22,
   "metadata": {},
   "outputs": [
    {
     "data": {
      "text/html": [
       "<div>\n",
       "<style scoped>\n",
       "    .dataframe tbody tr th:only-of-type {\n",
       "        vertical-align: middle;\n",
       "    }\n",
       "\n",
       "    .dataframe tbody tr th {\n",
       "        vertical-align: top;\n",
       "    }\n",
       "\n",
       "    .dataframe thead th {\n",
       "        text-align: right;\n",
       "    }\n",
       "</style>\n",
       "<table border=\"1\" class=\"dataframe\">\n",
       "  <thead>\n",
       "    <tr style=\"text-align: right;\">\n",
       "      <th></th>\n",
       "      <th>ID</th>\n",
       "      <th>GENDER</th>\n",
       "      <th>SENIORCITIZEN</th>\n",
       "      <th>PARTNER</th>\n",
       "      <th>DEPENDENTS</th>\n",
       "      <th>TENURE</th>\n",
       "      <th>PHONESERVICE</th>\n",
       "      <th>MULTIPLELINES</th>\n",
       "      <th>INTERNETSERVICE</th>\n",
       "      <th>ONLINESECURITY</th>\n",
       "      <th>ONLINEBACKUP</th>\n",
       "      <th>DEVICEPROTECTION</th>\n",
       "      <th>TECHSUPPORT</th>\n",
       "      <th>STREAMINGTV</th>\n",
       "      <th>STREAMINGMOVIES</th>\n",
       "      <th>CONTRACT</th>\n",
       "      <th>PAPERLESSBILLING</th>\n",
       "      <th>PAYMENTMETHOD</th>\n",
       "      <th>MONTHLYCHARGES</th>\n",
       "      <th>TOTALCHARGES</th>\n",
       "      <th>CHURN</th>\n",
       "    </tr>\n",
       "  </thead>\n",
       "  <tbody>\n",
       "    <tr>\n",
       "      <th>0</th>\n",
       "      <td>3418</td>\n",
       "      <td>Female</td>\n",
       "      <td>0.0000</td>\n",
       "      <td>No</td>\n",
       "      <td>No</td>\n",
       "      <td>26.0000</td>\n",
       "      <td>Yes</td>\n",
       "      <td>No</td>\n",
       "      <td>DSL</td>\n",
       "      <td>No</td>\n",
       "      <td>Yes</td>\n",
       "      <td>Yes</td>\n",
       "      <td>No</td>\n",
       "      <td>No</td>\n",
       "      <td>No</td>\n",
       "      <td>Month-to-month</td>\n",
       "      <td>Yes</td>\n",
       "      <td>Credit card (automatic)</td>\n",
       "      <td>131.5500</td>\n",
       "      <td>1483.7000</td>\n",
       "      <td>0</td>\n",
       "    </tr>\n",
       "    <tr>\n",
       "      <th>1</th>\n",
       "      <td>6865</td>\n",
       "      <td>Male</td>\n",
       "      <td>0.0000</td>\n",
       "      <td>No</td>\n",
       "      <td>No</td>\n",
       "      <td>39.0000</td>\n",
       "      <td>Yes</td>\n",
       "      <td>Yes</td>\n",
       "      <td>Fiber optic</td>\n",
       "      <td>No</td>\n",
       "      <td>No</td>\n",
       "      <td>No</td>\n",
       "      <td>No</td>\n",
       "      <td>No</td>\n",
       "      <td>No</td>\n",
       "      <td>Month-to-month</td>\n",
       "      <td>Yes</td>\n",
       "      <td>Credit card (automatic)</td>\n",
       "      <td>79.6100</td>\n",
       "      <td>2737.3100</td>\n",
       "      <td>0</td>\n",
       "    </tr>\n",
       "  </tbody>\n",
       "</table>\n",
       "</div>"
      ],
      "text/plain": [
       "     ID  GENDER  SENIORCITIZEN PARTNER DEPENDENTS  TENURE PHONESERVICE  \\\n",
       "0  3418  Female         0.0000      No         No 26.0000          Yes   \n",
       "1  6865    Male         0.0000      No         No 39.0000          Yes   \n",
       "\n",
       "  MULTIPLELINES INTERNETSERVICE ONLINESECURITY ONLINEBACKUP DEVICEPROTECTION  \\\n",
       "0            No             DSL             No          Yes              Yes   \n",
       "1           Yes     Fiber optic             No           No               No   \n",
       "\n",
       "  TECHSUPPORT STREAMINGTV STREAMINGMOVIES        CONTRACT PAPERLESSBILLING  \\\n",
       "0          No          No              No  Month-to-month              Yes   \n",
       "1          No          No              No  Month-to-month              Yes   \n",
       "\n",
       "             PAYMENTMETHOD  MONTHLYCHARGES  TOTALCHARGES  CHURN  \n",
       "0  Credit card (automatic)        131.5500     1483.7000      0  \n",
       "1  Credit card (automatic)         79.6100     2737.3100      0  "
      ]
     },
     "execution_count": 22,
     "metadata": {},
     "output_type": "execute_result"
    }
   ],
   "source": [
    "data.head(2)"
   ]
  },
  {
   "cell_type": "markdown",
   "metadata": {},
   "source": [
    "# Split data"
   ]
  },
  {
   "cell_type": "code",
   "execution_count": 30,
   "metadata": {},
   "outputs": [],
   "source": [
    "X = data.drop(['ID', 'CHURN'], axis=1)\n",
    "y = data['CHURN']\n",
    "\n",
    "X_train, X_val, y_train, y_val = train_test_split(X, y, test_size=0.25, random_state=42)"
   ]
  },
  {
   "cell_type": "code",
   "execution_count": 31,
   "metadata": {},
   "outputs": [
    {
     "data": {
      "text/plain": [
       "<AxesSubplot:>"
      ]
     },
     "execution_count": 31,
     "metadata": {},
     "output_type": "execute_result"
    },
    {
     "data": {
      "image/png": "[encoded data removed]",
      "text/plain": [
       "<Figure size 432x288 with 1 Axes>"
      ]
     },
     "metadata": {
      "needs_background": "light"
     },
     "output_type": "display_data"
    }
   ],
   "source": [
    "categorical_columns = [0, 2, 3, 5, 6, 7, 8, 9, 10, 11, 12, 13, 14, 15, 16]\n",
    "smote = SMOTENC(random_state=42, categorical_features=categorical_columns)\n",
    "\n",
    "X_over, y_over = smote.fit_sample(X_train, y_train)\n",
    "\n",
    "sns.barplot(y_over.value_counts().index, y_over.value_counts().values)"
   ]
  },
  {
   "cell_type": "code",
   "execution_count": 32,
   "metadata": {},
   "outputs": [],
   "source": [
    "def encoder_ohe(cols_ohe, ohe, X_train, X_val):\n",
    "    for col in cols_ohe:\n",
    "        colunas_ohe = ohe.fit_transform(X_train[[col]])\n",
    "        colunas_ohe_teste = ohe.transform(X_val[[col]])\n",
    "        \n",
    "        categorias_ohe = ohe.categories_[0]\n",
    "        \n",
    "        for indice, nome_categoria in enumerate(categorias_ohe):\n",
    "            X_train[nome_categoria] = colunas_ohe[:, indice]\n",
    "            X_val[nome_categoria] = colunas_ohe_teste[:, indice]\n",
    "        X_train = X_train.drop(col, axis=1)\n",
    "        X_val = X_val.drop(col, axis=1)\n",
    "\n",
    "    return X_train, X_val"
   ]
  },
  {
   "cell_type": "code",
   "execution_count": 10,
   "metadata": {},
   "outputs": [],
   "source": [
    "# encoder_columns = X_train.columns[categorical_columns]\n",
    "# ohe = OneHotEncoder(sparse=False)\n",
    "# X_over, X_val = encoder_ohe(encoder_columns, ohe, X_over, X_val)"
   ]
  },
  {
   "cell_type": "markdown",
   "metadata": {},
   "source": [
    "# 0.0 - Pipeline"
   ]
  },
  {
   "cell_type": "code",
   "execution_count": 33,
   "metadata": {},
   "outputs": [],
   "source": [
    "encoder_columns = X_over.columns[categorical_columns]\n",
    "\n",
    "column_transformer = make_column_transformer(\n",
    "    (OneHotEncoder(), categorical_columns),\n",
    "    remainder='passthrough')\n",
    "\n",
    "pipe = Pipeline([\n",
    "    ('transformer', column_transformer),\n",
    "    ('model',  LGBMClassifier(n_estimators=1000, learning_rate=0.009, num_leaves=7, n_jobs=-1, max_depth=13, random_state=42))\n",
    "])"
   ]
  },
  {
   "cell_type": "code",
   "execution_count": 34,
   "metadata": {},
   "outputs": [
    {
     "data": {
      "text/plain": [
       "0.7867575462512172"
      ]
     },
     "execution_count": 34,
     "metadata": {},
     "output_type": "execute_result"
    }
   ],
   "source": [
    "pipe.fit(X_over, y_over)\n",
    "\n",
    "pipe.score(X_val, y_val)"
   ]
  },
  {
   "cell_type": "code",
   "execution_count": 35,
   "metadata": {},
   "outputs": [
    {
     "data": {
      "text/plain": [
       "0.7904354352075884"
      ]
     },
     "execution_count": 35,
     "metadata": {},
     "output_type": "execute_result"
    }
   ],
   "source": [
    "from sklearn.metrics import f1_score\n",
    "\n",
    "y_pred = pipe.predict(X_val)\n",
    "\n",
    "f1_score(y_val, y_pred, average='weighted')"
   ]
  },
  {
   "cell_type": "code",
   "execution_count": 36,
   "metadata": {},
   "outputs": [],
   "source": [
    "pred_sub = pipe.predict(answers.drop(['ID', 'CHURN'], axis=1))"
   ]
  },
  {
   "cell_type": "code",
   "execution_count": 40,
   "metadata": {},
   "outputs": [],
   "source": [
    "answers['CHURN'] = pred_sub"
   ]
  },
  {
   "cell_type": "code",
   "execution_count": 44,
   "metadata": {},
   "outputs": [],
   "source": [
    "answers['CHURN'] = answers['CHURN'].apply(lambda x: 'Yes' if x == 1 else 'No')"
   ]
  },
  {
   "cell_type": "code",
   "execution_count": 47,
   "metadata": {},
   "outputs": [],
   "source": [
    "# answers.to_csv('/home/maksonvinicio/Documents/GitHub/Data-Science-Projects/Maratona Behind the Code 2021/05_Sonda/Data/submission.csv', index=False)"
   ]
  },
  {
   "cell_type": "markdown",
   "metadata": {},
   "source": [
    "# 1.0 - LGBM"
   ]
  },
  {
   "cell_type": "code",
   "execution_count": null,
   "metadata": {},
   "outputs": [],
   "source": [
    "model = LGBMClassifier(n_estimators=1000, learning_rate=0.01, num_leaves=7, n_jobs=-1)\n",
    "model.fit(X_over, y_over)\n",
    "\n",
    "y_pred = model.predict(X_val)\n",
    "\n",
    "model.score(X_val, y_val)"
   ]
  },
  {
   "cell_type": "code",
   "execution_count": 13,
   "metadata": {},
   "outputs": [
    {
     "data": {
      "text/plain": [
       "0.8280973451327434"
      ]
     },
     "execution_count": 13,
     "metadata": {},
     "output_type": "execute_result"
    }
   ],
   "source": [
    "cv = StratifiedKFold(n_splits=5, shuffle=True, random_state=42)\n",
    "\n",
    "cross_val_score(model, X_over, y_over, cv=cv).mean()"
   ]
  },
  {
   "cell_type": "code",
   "execution_count": null,
   "metadata": {},
   "outputs": [
    {
     "data": {
      "text/plain": [
       "0.7865497076023392"
      ]
     },
     "metadata": {},
     "output_type": "display_data"
    }
   ],
   "source": [
    "pipe.fit(X_over, y_over)\n",
    "\n",
    "pipe.score(X_val, y_val)"
   ]
  },
  {
   "cell_type": "code",
   "execution_count": 15,
   "metadata": {},
   "outputs": [
    {
     "data": {
      "text/plain": [
       "0.8045552317876613"
      ]
     },
     "execution_count": 15,
     "metadata": {},
     "output_type": "execute_result"
    }
   ],
   "source": [
    "from sklearn.metrics import f1_score\n",
    "\n",
    "f1_score(y_val, y_pred, average='weighted')"
   ]
  },
  {
   "cell_type": "code",
   "execution_count": 14,
   "metadata": {},
   "outputs": [
    {
     "name": "stdout",
     "output_type": "stream",
     "text": [
      "              precision    recall  f1-score   support\n",
      "\n",
      "           0       0.89      0.84      0.86       766\n",
      "           1       0.59      0.68      0.63       260\n",
      "\n",
      "    accuracy                           0.80      1026\n",
      "   macro avg       0.74      0.76      0.75      1026\n",
      "weighted avg       0.81      0.80      0.80      1026\n",
      "\n"
     ]
    },
    {
     "data": {
      "image/png": "[encoded data removed]",
      "text/plain": [
       "<Figure size 720x576 with 2 Axes>"
      ]
     },
     "metadata": {
      "needs_background": "light"
     },
     "output_type": "display_data"
    }
   ],
   "source": [
    "print(classification_report(y_val, y_pred))\n",
    "\n",
    "cm = confusion_matrix(y_val, y_pred)\n",
    "plt.figure(figsize=(10, 8))\n",
    "sns.heatmap(cm, annot=True, cmap='CMRmap_r', fmt='.0f', annot_kws={'size': 12})\n",
    "plt.xlabel('Predict label', fontsize=12)\n",
    "plt.ylabel('True label', fontsize=12)\n",
    "plt.show()"
   ]
  },
  {
   "cell_type": "markdown",
   "metadata": {},
   "source": [
    "# 2.0 - Logistic Regression"
   ]
  },
  {
   "cell_type": "code",
   "execution_count": 118,
   "metadata": {},
   "outputs": [
    {
     "data": {
      "text/plain": [
       "0.7807017543859649"
      ]
     },
     "execution_count": 118,
     "metadata": {},
     "output_type": "execute_result"
    }
   ],
   "source": [
    "logreg = LogisticRegression().fit(X_over, y_over)\n",
    "\n",
    "y_pred_reg = model.predict(X_val)\n",
    "\n",
    "logreg.score(X_val, y_val)"
   ]
  },
  {
   "cell_type": "code",
   "execution_count": 138,
   "metadata": {},
   "outputs": [
    {
     "data": {
      "text/plain": [
       "0.7953539823008849"
      ]
     },
     "execution_count": 138,
     "metadata": {},
     "output_type": "execute_result"
    }
   ],
   "source": [
    "cv = StratifiedKFold(n_splits=5, shuffle=True, random_state=42)\n",
    "\n",
    "cross_val_score(logreg, X_over, y_over, cv=cv).mean()"
   ]
  },
  {
   "cell_type": "code",
   "execution_count": 103,
   "metadata": {},
   "outputs": [
    {
     "name": "stdout",
     "output_type": "stream",
     "text": [
      "              precision    recall  f1-score   support\n",
      "\n",
      "           0       0.89      0.83      0.86       766\n",
      "           1       0.58      0.69      0.63       260\n",
      "\n",
      "    accuracy                           0.80      1026\n",
      "   macro avg       0.73      0.76      0.74      1026\n",
      "weighted avg       0.81      0.80      0.80      1026\n",
      "\n"
     ]
    },
    {
     "data": {
      "image/png": "[encoded data removed]",
      "text/plain": [
       "<Figure size 720x576 with 2 Axes>"
      ]
     },
     "metadata": {
      "needs_background": "light"
     },
     "output_type": "display_data"
    }
   ],
   "source": [
    "print(classification_report(y_val, y_pred_reg))\n",
    "\n",
    "cm = confusion_matrix(y_val, y_pred_reg)\n",
    "plt.figure(figsize=(10, 8))\n",
    "sns.heatmap(cm, annot=True, cmap='CMRmap_r', fmt='.0f', annot_kws={'size': 12})\n",
    "plt.xlabel('Predict label', fontsize=12)\n",
    "plt.ylabel('True label', fontsize=12)\n",
    "plt.show()"
   ]
  },
  {
   "cell_type": "markdown",
   "metadata": {},
   "source": [
    "# 3.0 - Ensemble"
   ]
  },
  {
   "cell_type": "code",
   "execution_count": 129,
   "metadata": {},
   "outputs": [],
   "source": [
    "from sklearn.ensemble import StackingClassifier\n",
    "from sklearn.ensemble import RandomForestClassifier"
   ]
  },
  {
   "cell_type": "code",
   "execution_count": 139,
   "metadata": {},
   "outputs": [
    {
     "data": {
      "text/plain": [
       "0.7904483430799221"
      ]
     },
     "execution_count": 139,
     "metadata": {},
     "output_type": "execute_result"
    }
   ],
   "source": [
    "estimators = [\n",
    "    ('logreg', LogisticRegression()),\n",
    "    ('lgbm', LGBMClassifier(n_estimators=1000, learning_rate=0.01, num_leaves=7, n_jobs=-1)),\n",
    "    ('rf', RandomForestClassifier(n_estimators=1000, n_jobs=-1, min_samples_leaf=7, criterion='gini')),\n",
    "]\n",
    "\n",
    "clf = StackingClassifier(estimators, final_estimator=LGBMClassifier())\n",
    "\n",
    "clf.fit(X_over, y_over)\n",
    "\n",
    "clf.score(X_val, y_val)"
   ]
  },
  {
   "cell_type": "code",
   "execution_count": 140,
   "metadata": {},
   "outputs": [
    {
     "data": {
      "text/plain": [
       "0.8232300884955752"
      ]
     },
     "execution_count": 140,
     "metadata": {},
     "output_type": "execute_result"
    }
   ],
   "source": [
    "cv = StratifiedKFold(n_splits=5, shuffle=True, random_state=42)\n",
    "\n",
    "cross_val_score(clf, X_over, y_over, cv=cv).mean()"
   ]
  },
  {
   "cell_type": "markdown",
   "metadata": {},
   "source": [
    "# Feature Selection"
   ]
  },
  {
   "cell_type": "code",
   "execution_count": 63,
   "metadata": {},
   "outputs": [
    {
     "data": {
      "image/png": "[encoded data removed]",
      "text/plain": [
       "<Figure size 720x576 with 1 Axes>"
      ]
     },
     "metadata": {
      "needs_background": "light"
     },
     "output_type": "display_data"
    }
   ],
   "source": [
    "feature_names = model.feature_name_\n",
    "importances = model.feature_importances_\n",
    "\n",
    "forest_importances = pd.Series(importances, index=feature_names) \n",
    "\n",
    "fig, ax = plt.subplots(figsize=(10, 8))\n",
    "forest_importances.plot.bar(ax=ax)\n",
    "ax.set_title(\"Feature importances using MDI\")\n",
    "ax.set_ylabel(\"Mean decrease in impurity\")\n",
    "fig.tight_layout()"
   ]
  },
  {
   "cell_type": "code",
   "execution_count": 64,
   "metadata": {},
   "outputs": [],
   "source": [
    "from sklearn.metrics import log_loss"
   ]
  },
  {
   "cell_type": "code",
   "execution_count": 66,
   "metadata": {},
   "outputs": [
    {
     "data": {
      "text/plain": [
       "0.4298939325408906"
      ]
     },
     "execution_count": 66,
     "metadata": {},
     "output_type": "execute_result"
    }
   ],
   "source": [
    "p = model.predict_proba(X_val)\n",
    "loss = log_loss(y_val, p)\n",
    "loss"
   ]
  },
  {
   "cell_type": "code",
   "execution_count": 68,
   "metadata": {},
   "outputs": [
    {
     "name": "stdout",
     "output_type": "stream",
     "text": [
      "Feature: SENIORCITIZEN  -  LL Delta: 0.0013\n",
      "Feature: TENURE  -  LL Delta: 0.0592\n",
      "Feature: MONTHLYCHARGES  -  LL Delta: -0.0019\n",
      "Feature: TOTALCHARGES  -  LL Delta: 0.0084\n",
      "Feature: Female  -  LL Delta: 0.0014\n",
      "Feature: Male  -  LL Delta: 0.0002\n",
      "Feature: No  -  LL Delta: -0.0009\n",
      "Feature: Yes  -  LL Delta: -0.0000\n",
      "Feature: No phone service  -  LL Delta: 0.0002\n",
      "Feature: DSL  -  LL Delta: -0.0000\n",
      "Feature: Fiber optic  -  LL Delta: 0.0325\n",
      "Feature: No internet service  -  LL Delta: -0.0057\n",
      "Feature: Month-to-month  -  LL Delta: 0.0430\n",
      "Feature: One year  -  LL Delta: -0.0002\n",
      "Feature: Two year  -  LL Delta: 0.0104\n",
      "Feature: Bank transfer (automatic)  -  LL Delta: -0.0000\n",
      "Feature: Credit card (automatic)  -  LL Delta: -0.0004\n",
      "Feature: Electronic check  -  LL Delta: 0.0003\n",
      "Feature: Mailed check  -  LL Delta: 0.0000\n"
     ]
    }
   ],
   "source": [
    "from sklearn.metrics import classification_report, confusion_matrix, log_loss\n",
    "res = {}\n",
    "\n",
    "for col in X_val.columns:\n",
    "    Xval = X_val.copy()\n",
    "    Xval[col] = np.random.permutation(Xval[col])\n",
    "\n",
    "    p = model.predict_proba(Xval)\n",
    "\n",
    "    ll = log_loss(y_val, p)\n",
    "    res[col] = ll\n",
    "\n",
    "    print(f'Feature: {col}  -  LL Delta: {(loss - ll) * -1 :.4f}')"
   ]
  },
  {
   "cell_type": "code",
   "execution_count": 69,
   "metadata": {},
   "outputs": [
    {
     "name": "stdout",
     "output_type": "stream",
     "text": [
      "TENURE                       0.06\n",
      "Month-to-month               0.04\n",
      "Fiber optic                  0.03\n",
      "Two year                     0.01\n",
      "TOTALCHARGES                 0.01\n",
      "Female                       0.00\n",
      "SENIORCITIZEN                0.00\n",
      "Electronic check             0.00\n",
      "No phone service             0.00\n",
      "Male                         0.00\n",
      "Mailed check                 0.00\n",
      "Yes                         -0.00\n",
      "DSL                         -0.00\n",
      "Bank transfer (automatic)   -0.00\n",
      "One year                    -0.00\n",
      "Credit card (automatic)     -0.00\n",
      "No                          -0.00\n",
      "MONTHLYCHARGES              -0.00\n",
      "No internet service         -0.01\n",
      "dtype: float64\n"
     ]
    }
   ],
   "source": [
    "print((loss - pd.Series(res)).sort_values() * -1)"
   ]
  },
  {
   "cell_type": "markdown",
   "metadata": {},
   "source": [
    "# Deep learning"
   ]
  },
  {
   "cell_type": "code",
   "execution_count": 93,
   "metadata": {},
   "outputs": [],
   "source": [
    "def FeedForward():\n",
    "    model = Sequential()\n",
    "    model.add(Dense(units=6, activation='relu', input_dim=19))\n",
    "    model.add(Dense(units = 6, activation = 'relu'))\n",
    "    model.add(Dense(units = 6, activation = 'relu'))\n",
    "    model.add(Dense(units = 6, activation = 'relu'))\n",
    "    model.add(Dense(units = 1, activation = 'sigmoid'))\n",
    "\n",
    "    model.compile(optimizer = 'adam', loss = 'binary_crossentropy', metrics = ['accuracy'])\n",
    "\n",
    "    return model"
   ]
  },
  {
   "cell_type": "code",
   "execution_count": 94,
   "metadata": {},
   "outputs": [
    {
     "data": {
      "text/plain": [
       "<keras.callbacks.History at 0x7fe974045c40>"
      ]
     },
     "execution_count": 94,
     "metadata": {},
     "output_type": "execute_result"
    }
   ],
   "source": [
    "history = KerasClassifier(FeedForward, epochs=100, batch_size=10, verbose=0)\n",
    "\n",
    "history.fit(X_over, y_over)"
   ]
  },
  {
   "cell_type": "code",
   "execution_count": 96,
   "metadata": {},
   "outputs": [
    {
     "data": {
      "text/plain": [
       "array([0.80199116, 0.79646015, 0.77323008, 0.81194693, 0.77433628])"
      ]
     },
     "execution_count": 96,
     "metadata": {},
     "output_type": "execute_result"
    }
   ],
   "source": [
    "cv = StratifiedKFold(n_splits=5, shuffle=True, random_state=42)\n",
    "\n",
    "cross_val_score(history, X_over, y_over, cv=cv)"
   ]
  },
  {
   "cell_type": "code",
   "execution_count": 86,
   "metadata": {},
   "outputs": [],
   "source": [
    "pred = model.predict(X_val)\n",
    "pred = (pred > 0.5)"
   ]
  },
  {
   "cell_type": "code",
   "execution_count": 87,
   "metadata": {},
   "outputs": [
    {
     "name": "stdout",
     "output_type": "stream",
     "text": [
      "Relatório de Classificação:\n",
      "               precision    recall  f1-score   support\n",
      "\n",
      "           0     0.8547    0.8982    0.8759       766\n",
      "           1     0.6471    0.5500    0.5946       260\n",
      "\n",
      "    accuracy                         0.8099      1026\n",
      "   macro avg     0.7509    0.7241    0.7352      1026\n",
      "weighted avg     0.8021    0.8099    0.8046      1026\n",
      "\n"
     ]
    },
    {
     "data": {
      "image/png": "[encoded data removed]",
      "text/plain": [
       "<Figure size 720x576 with 2 Axes>"
      ]
     },
     "metadata": {
      "needs_background": "light"
     },
     "output_type": "display_data"
    }
   ],
   "source": [
    "print(\"Relatório de Classificação:\\n\", classification_report(y_val, pred, digits=4))\n",
    "cm = confusion_matrix(y_val, y_pred)\n",
    "plt.figure(figsize=(10, 8))\n",
    "sns.heatmap(cm, annot=True, cmap='CMRmap_r', fmt='.0f', annot_kws={'size': 12})\n",
    "plt.xlabel('Predict label', fontsize=12)\n",
    "plt.ylabel('True label', fontsize=12)\n",
    "plt.show()"
   ]
  },
  {
   "cell_type": "code",
   "execution_count": null,
   "metadata": {},
   "outputs": [],
   "source": []
  }
 ],
 "metadata": {
  "interpreter": {
   "hash": "916dbcbb3f70747c44a77c7bcd40155683ae19c65e1c03b4aa3499c5328201f1"
  },
  "kernelspec": {
   "display_name": "Python 3.9.5 64-bit",
   "language": "python",
   "name": "python3"
  },
  "language_info": {
   "codemirror_mode": {
    "name": "ipython",
    "version": 3
   },
   "file_extension": ".py",
   "mimetype": "text/x-python",
   "name": "python",
   "nbconvert_exporter": "python",
   "pygments_lexer": "ipython3",
   "version": "3.9.5"
  },
  "orig_nbformat": 4
 },
 "nbformat": 4,
 "nbformat_minor": 2
}
