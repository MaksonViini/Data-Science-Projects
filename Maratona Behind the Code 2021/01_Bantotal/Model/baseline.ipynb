{
 "cells": [
  {
   "cell_type": "code",
   "execution_count": 111,
   "metadata": {},
   "outputs": [],
   "source": [
    "import pandas as pd\n",
    "import numpy as np\n",
    "import matplotlib.pyplot as plt\n",
    "import seaborn as sns\n",
    "\n",
    "\n",
    "from sklearn.preprocessing import LabelEncoder, OneHotEncoder, StandardScaler\n",
    "\n",
    "from imblearn.over_sampling import SMOTENC\n",
    "from sklearn.model_selection import train_test_split, StratifiedKFold, cross_val_score\n",
    "\n",
    "from lightgbm import LGBMClassifier\n",
    "\n",
    "from keras.models import Sequential\n",
    "from keras.layers import Dense\n",
    "from keras.wrappers.scikit_learn import KerasClassifier\n",
    "\n",
    "from sklearn.metrics import classification_report, confusion_matrix, accuracy_score\n",
    "\n",
    "pd.set_option('display.max_columns', 100)\n",
    "pd.options.display.float_format = '{:.4f}'.format\n",
    "\n",
    "import warnings\n",
    "warnings.filterwarnings(\"ignore\")\n"
   ]
  },
  {
   "cell_type": "code",
   "execution_count": 2,
   "metadata": {},
   "outputs": [],
   "source": [
    "# Carregue aqui o dataset\n",
    "loans = pd.read_csv(\n",
    "    '/home/maksonvinicio/Documents/GitHub/Data-Science-Projects/Maratona Behind the Code 2021/01_Bantotal/Data/LOANS.csv')\n",
    "accounts = pd.read_csv(\n",
    "    '/home/maksonvinicio/Documents/GitHub/Data-Science-Projects/Maratona Behind the Code 2021/01_Bantotal/Data/ACCOUNTS.csv')\n",
    "demographics = pd.read_csv(\n",
    "    '/home/maksonvinicio/Documents/GitHub/Data-Science-Projects/Maratona Behind the Code 2021/01_Bantotal/Data/DEMOGRAPHICS.csv')\n"
   ]
  },
  {
   "cell_type": "code",
   "execution_count": 3,
   "metadata": {},
   "outputs": [],
   "source": [
    "join_df = pd.merge(loans, accounts, on='ID')\n",
    "data = pd.merge(join_df, demographics, on='ID')"
   ]
  },
  {
   "cell_type": "code",
   "execution_count": 4,
   "metadata": {},
   "outputs": [],
   "source": [
    "def no_checking(x): return 0 if x == 'NO_CHECKING' else x\n",
    "def existing_savings(x): return 0 if x == 'UNKNOWN' else x\n",
    "\n",
    "data['CHECKING_BALANCE'] = data['CHECKING_BALANCE'].apply(no_checking)\n",
    "data['EXISTING_SAVINGS'] = data['EXISTING_SAVINGS'].apply(existing_savings)\n",
    "data['CHECKING_BALANCE'] = data['CHECKING_BALANCE'].astype(float)\n",
    "data['EXISTING_SAVINGS'] = data['EXISTING_SAVINGS'].astype(float)\n"
   ]
  },
  {
   "cell_type": "code",
   "execution_count": 128,
   "metadata": {},
   "outputs": [],
   "source": [
    "cols = ['ID', 'ALLOW',\n",
    "        'CURRENT_RESIDENCE_DURATION',\n",
    "        'EMPLOYMENT_DURATION',\n",
    "        'INSTALLMENT_PERCENT',\n",
    "        'EXISTING_CREDITS_COUNT',\n",
    "        'PAYMENT_TERM',\n",
    "        'EXISTING_SAVINGS',\n",
    "        'LOAN_AMOUNT',\n",
    "        'CHECKING_BALANCE',\n",
    "        'HOUSING', 'SEX',\n",
    "        'INSTALLMENT_PLANS', 'JOB_TYPE',\n",
    "        'LOAN_PURPOSE', 'PROPERTY'\n",
    "        ]\n"
   ]
  },
  {
   "cell_type": "code",
   "execution_count": 129,
   "metadata": {},
   "outputs": [
    {
     "name": "stdout",
     "output_type": "stream",
     "text": [
      "Foram retiradas 252 linhas\n"
     ]
    }
   ],
   "source": [
    "df = data.drop(data[(data['CHECKING_BALANCE'] >= 1000) | (data['EXISTING_SAVINGS'] >= 3000)].index, axis=0)\n",
    "print('Foram retiradas {} linhas'.format(data.shape[0] - df.shape[0]))\n",
    "df = df[cols]"
   ]
  },
  {
   "cell_type": "code",
   "execution_count": 130,
   "metadata": {},
   "outputs": [],
   "source": [
    "data.isna().sum()\n",
    "df = df.dropna(axis=0)"
   ]
  },
  {
   "cell_type": "code",
   "execution_count": 131,
   "metadata": {},
   "outputs": [],
   "source": [
    "X = df.drop(['ID', 'ALLOW'], axis=1)\n",
    "y = df['ALLOW']\n",
    "\n",
    "test_pct = 0.3  # Separaremos 30% dos dados para testes\n",
    "X_train, X_val, y_train, y_val = train_test_split(X, y, test_size=test_pct, random_state=42)\n"
   ]
  },
  {
   "cell_type": "code",
   "execution_count": 132,
   "metadata": {},
   "outputs": [
    {
     "data": {
      "text/plain": [
       "<AxesSubplot:>"
      ]
     },
     "execution_count": 132,
     "metadata": {},
     "output_type": "execute_result"
    },
    {
     "data": {
      "image/png": "[encoded data removed]",
      "text/plain": [
       "<Figure size 432x288 with 1 Axes>"
      ]
     },
     "metadata": {
      "needs_background": "light"
     },
     "output_type": "display_data"
    }
   ],
   "source": [
    "sns.barplot(y_train.value_counts().index, y_train.value_counts().values)"
   ]
  },
  {
   "cell_type": "code",
   "execution_count": 133,
   "metadata": {},
   "outputs": [
    {
     "data": {
      "text/plain": [
       "((1453, 14), (623, 14), (1453,), (623,))"
      ]
     },
     "execution_count": 133,
     "metadata": {},
     "output_type": "execute_result"
    }
   ],
   "source": [
    "X_train.shape, X_val.shape, y_train.shape, y_val.shape"
   ]
  },
  {
   "cell_type": "code",
   "execution_count": 134,
   "metadata": {},
   "outputs": [],
   "source": [
    "def encoder_ohe(cols_ohe, ohe, X_train, X_val):\n",
    "    for col in cols_ohe:\n",
    "        colunas_ohe = ohe.fit_transform(X_train[[col]])\n",
    "        colunas_ohe_teste = ohe.transform(X_val[[col]])\n",
    "        \n",
    "        categorias_ohe = ohe.categories_[0]\n",
    "        \n",
    "        for indice, nome_categoria in enumerate(categorias_ohe):\n",
    "            df_categorias = pd.DataFrame(data=colunas_ohe[:, indice], columns=[nome_categoria])\n",
    "            df_categorias_teste = pd.DataFrame(data=colunas_ohe_teste[:, indice], columns=[nome_categoria])\n",
    "            \n",
    "            \n",
    "            X_train[nome_categoria] = colunas_ohe[:, indice]\n",
    "            X_val[nome_categoria] = colunas_ohe_teste[:, indice]\n",
    "        \n",
    "    \n",
    "        X_train = X_train.drop(col, axis=1)\n",
    "        X_val = X_val.drop(col, axis=1)\n",
    "\n",
    "    return X_train, X_val"
   ]
  },
  {
   "cell_type": "code",
   "execution_count": 135,
   "metadata": {},
   "outputs": [],
   "source": [
    "categorical_columns = ['LOAN_PURPOSE', 'PROPERTY',\n",
    "                       'INSTALLMENT_PLANS', 'SEX', 'HOUSING']\n",
    "ohe = OneHotEncoder(sparse=False)\n",
    "X_train, X_val = encoder_ohe(categorical_columns, ohe, X_train, X_val)"
   ]
  },
  {
   "cell_type": "code",
   "execution_count": 136,
   "metadata": {},
   "outputs": [],
   "source": [
    "from imblearn.over_sampling import SMOTE"
   ]
  },
  {
   "cell_type": "code",
   "execution_count": 137,
   "metadata": {},
   "outputs": [],
   "source": [
    "smote = SMOTE(random_state=42)\n",
    "X_train, y_train = smote.fit_sample(X_train, y_train)"
   ]
  },
  {
   "cell_type": "code",
   "execution_count": 13,
   "metadata": {},
   "outputs": [],
   "source": [
    "# cols_scaler = ['PAYMENT_TERM', 'INSTALLMENT_PERCENT', 'LOAN_AMOUNT', 'CHECKING_BALANCE', 'EXISTING_SAVINGS',\n",
    "# 'EXISTING_CREDITS_COUNT', 'AGE', 'JOB_TYPE', 'DEPENDENTS', 'EMPLOYMENT_DURATION', 'CURRENT_RESIDENCE_DURATION']\n",
    "# sc = StandardScaler()\n",
    "# X_train[cols_scaler] = sc.fit_transform(X_train[cols_scaler])\n",
    "# X_val[cols_scaler] = sc.transform(X_val[cols_scaler])"
   ]
  },
  {
   "cell_type": "markdown",
   "metadata": {},
   "source": [
    "# 1 - LGBM"
   ]
  },
  {
   "cell_type": "code",
   "execution_count": 147,
   "metadata": {},
   "outputs": [
    {
     "data": {
      "text/plain": [
       "0.7736757624398074"
      ]
     },
     "execution_count": 147,
     "metadata": {},
     "output_type": "execute_result"
    }
   ],
   "source": [
    "model = LGBMClassifier(n_estimators=100, learning_rate=0.1, num_leaves=5)\n",
    "model.fit(X_train, y_train)\n",
    "\n",
    "y_pred = model.predict(X_val)\n",
    "\n",
    "model.score(X_val, y_val)\n"
   ]
  },
  {
   "cell_type": "code",
   "execution_count": null,
   "metadata": {},
   "outputs": [],
   "source": [
    "80,6"
   ]
  },
  {
   "cell_type": "code",
   "execution_count": 140,
   "metadata": {},
   "outputs": [
    {
     "data": {
      "text/plain": [
       "0.8467661691542288"
      ]
     },
     "execution_count": 140,
     "metadata": {},
     "output_type": "execute_result"
    }
   ],
   "source": [
    "cv = StratifiedKFold(n_splits=5, shuffle=True, random_state=42)\n",
    "\n",
    "cross_val_score(model, X_train, y_train, cv=cv).mean()"
   ]
  },
  {
   "cell_type": "code",
   "execution_count": null,
   "metadata": {},
   "outputs": [],
   "source": [
    "84,99"
   ]
  },
  {
   "cell_type": "code",
   "execution_count": 141,
   "metadata": {},
   "outputs": [
    {
     "name": "stdout",
     "output_type": "stream",
     "text": [
      "              precision    recall  f1-score   support\n",
      "\n",
      "           0       0.73      0.59      0.65       223\n",
      "           1       0.79      0.88      0.83       400\n",
      "\n",
      "    accuracy                           0.77       623\n",
      "   macro avg       0.76      0.73      0.74       623\n",
      "weighted avg       0.77      0.77      0.77       623\n",
      "\n"
     ]
    },
    {
     "data": {
      "image/png": "[encoded data removed]",
      "text/plain": [
       "<Figure size 720x576 with 2 Axes>"
      ]
     },
     "metadata": {
      "needs_background": "light"
     },
     "output_type": "display_data"
    }
   ],
   "source": [
    "print(classification_report(y_val, y_pred))\n",
    "\n",
    "cm = confusion_matrix(y_val, y_pred)\n",
    "plt.figure(figsize=(10, 8))\n",
    "sns.heatmap(cm, annot=True, cmap='CMRmap_r', fmt='.0f', annot_kws={'size': 12})\n",
    "plt.xlabel('Predict label', fontsize=12)\n",
    "plt.ylabel('True label', fontsize=12)\n",
    "plt.show()\n"
   ]
  },
  {
   "cell_type": "markdown",
   "metadata": {},
   "source": [
    "## 1.1 - Feature Selection"
   ]
  },
  {
   "cell_type": "code",
   "execution_count": 146,
   "metadata": {},
   "outputs": [
    {
     "data": {
      "text/plain": [
       "0.44997118665722513"
      ]
     },
     "execution_count": 146,
     "metadata": {},
     "output_type": "execute_result"
    }
   ],
   "source": [
    "p = model.predict_proba(X_val)\n",
    "loss = log_loss(y_val, p)\n",
    "loss"
   ]
  },
  {
   "cell_type": "code",
   "execution_count": 42,
   "metadata": {},
   "outputs": [],
   "source": [
    "from sklearn.metrics import classification_report, confusion_matrix, log_loss\n",
    "res = dict()\n",
    "\n",
    "for col in X_val.columns:\n",
    "    Xval = X_val.copy()\n",
    "    Xval[col] = np.random.permutation(Xval[col])\n",
    "\n",
    "    p = model.predict_proba(Xval)\n",
    "\n",
    "    ll = log_loss(y_val, p)\n",
    "    res[col] = ll\n",
    "\n",
    "    # print(f'Feature: {col}  -  LL Delta: {(loss - ll) * -1 :.4f}')"
   ]
  },
  {
   "cell_type": "code",
   "execution_count": 143,
   "metadata": {},
   "outputs": [
    {
     "data": {
      "image/png": "[encoded data removed]",
      "text/plain": [
       "<Figure size 720x576 with 1 Axes>"
      ]
     },
     "metadata": {
      "needs_background": "light"
     },
     "output_type": "display_data"
    }
   ],
   "source": [
    "feature_names = model.feature_name_\n",
    "importances = model.feature_importances_\n",
    "\n",
    "\n",
    "forest_importances = pd.Series(importances, index=feature_names) \n",
    "\n",
    "fig, ax = plt.subplots(figsize=(10, 8))\n",
    "forest_importances.plot.bar(ax=ax)\n",
    "ax.set_title(\"Feature importances using MDI\")\n",
    "ax.set_ylabel(\"Mean decrease in impurity\")\n",
    "fig.tight_layout()"
   ]
  },
  {
   "cell_type": "code",
   "execution_count": 144,
   "metadata": {},
   "outputs": [
    {
     "data": {
      "text/plain": [
       "EMPLOYMENT_DURATION           48\n",
       "CHECKING_BALANCE              40\n",
       "INSTALLMENT_PERCENT           34\n",
       "PAYMENT_TERM                  31\n",
       "LOAN_AMOUNT                   30\n",
       "CURRENT_RESIDENCE_DURATION    29\n",
       "UNKNOWN                       20\n",
       "F                             18\n",
       "REAL_ESTATE                   16\n",
       "OWN                           14\n",
       "EXISTING_CREDITS_COUNT        13\n",
       "EXISTING_SAVINGS              12\n",
       "NONE                          12\n",
       "SAVINGS_INSURANCE             11\n",
       "STORES                        11\n",
       "JOB_TYPE                       8\n",
       "FURNITURE                      8\n",
       "BANK                           7\n",
       "CAR_USED                       5\n",
       "CAR_OTHER                      5\n",
       "FREE                           4\n",
       "M                              4\n",
       "RADIO_TV                       4\n",
       "BUSINESS                       4\n",
       "APPLIANCES                     4\n",
       "REPAIRS                        3\n",
       "OTHER                          2\n",
       "RENT                           2\n",
       "CAR_NEW                        1\n",
       "VACATION                       0\n",
       "RETRAINING                     0\n",
       "EDUCATION                      0\n",
       "dtype: int32"
      ]
     },
     "execution_count": 144,
     "metadata": {},
     "output_type": "execute_result"
    }
   ],
   "source": [
    "forest_importances.sort_values(ascending=False)"
   ]
  },
  {
   "cell_type": "code",
   "execution_count": 145,
   "metadata": {},
   "outputs": [
    {
     "name": "stdout",
     "output_type": "stream",
     "text": [
      "CURRENT_RESIDENCE_DURATION    0.0398\n",
      "EMPLOYMENT_DURATION           0.0321\n",
      "REAL_ESTATE                   0.0312\n",
      "UNKNOWN                       0.0159\n",
      "F                             0.0150\n",
      "INSTALLMENT_PERCENT           0.0128\n",
      "BANK                          0.0100\n",
      "EXISTING_CREDITS_COUNT        0.0096\n",
      "PAYMENT_TERM                  0.0094\n",
      "OUTSTANDING_CREDIT            0.0074\n",
      "SAVINGS_INSURANCE             0.0073\n",
      "CAR_OTHER                     0.0056\n",
      "OTHER                         0.0054\n",
      "EXISTING_SAVINGS              0.0054\n",
      "CAR_USED                      0.0054\n",
      "REPAIRS                       0.0052\n",
      "BUSINESS                      0.0051\n",
      "M                             0.0050\n",
      "APPLIANCES                    0.0047\n",
      "JOB_TYPE                      0.0047\n",
      "OWN                           0.0047\n",
      "FREE                          0.0041\n",
      "DEPENDENTS                    0.0039\n",
      "CAR_NEW                       0.0039\n",
      "PRIOR_PAYMENTS_DELAYED        0.0039\n",
      "FOREIGN_WORKER                0.0039\n",
      "ALL_CREDITS_PAID_BACK         0.0039\n",
      "VACATION                      0.0039\n",
      "GUARANTOR                     0.0039\n",
      "EDUCATION                     0.0039\n",
      "NO_CREDITS                    0.0039\n",
      "CREDITS_PAID_TO_DATE          0.0038\n",
      "CO-APPLICANT                  0.0038\n",
      "TELEPHONE                     0.0037\n",
      "RETRAINING                    0.0033\n",
      "RENT                          0.0032\n",
      "FURNITURE                     0.0031\n",
      "CHECKING_BALANCE              0.0029\n",
      "AGE                           0.0027\n",
      "LOAN_AMOUNT                   0.0024\n",
      "STORES                        0.0020\n",
      "RADIO_TV                      0.0018\n",
      "NONE                         -0.0061\n",
      "dtype: float64\n"
     ]
    }
   ],
   "source": [
    "print((loss - pd.Series(res)).sort_values() * -1)"
   ]
  },
  {
   "cell_type": "markdown",
   "metadata": {},
   "source": [
    "# 2 - Deep Learning"
   ]
  },
  {
   "cell_type": "code",
   "execution_count": 17,
   "metadata": {},
   "outputs": [],
   "source": [
    "def FeedForward():\n",
    "    model = Sequential()\n",
    "    model.add(Dense(units=6, activation='relu', input_dim=43))\n",
    "    model.add(Dense(units = 6, activation = 'relu'))\n",
    "    model.add(Dense(units = 6, activation = 'relu'))\n",
    "    model.add(Dense(units = 6, activation = 'relu'))\n",
    "    model.add(Dense(units = 1, activation = 'sigmoid'))\n",
    "\n",
    "    model.compile(optimizer = 'adam', loss = 'binary_crossentropy', metrics = ['accuracy'])\n",
    "\n",
    "    return model"
   ]
  },
  {
   "cell_type": "code",
   "execution_count": 21,
   "metadata": {},
   "outputs": [],
   "source": [
    "# model = KerasClassifier(FeedForward, epochs=100, batch_size=10, verbose=0)\n",
    "\n",
    "# model.fit(X_train, y_train)"
   ]
  },
  {
   "cell_type": "code",
   "execution_count": 19,
   "metadata": {},
   "outputs": [],
   "source": [
    "pred = model.predict(X_val)\n",
    "pred = (pred > 0.5)"
   ]
  },
  {
   "cell_type": "code",
   "execution_count": 20,
   "metadata": {},
   "outputs": [
    {
     "name": "stdout",
     "output_type": "stream",
     "text": [
      "Relatório de Classificação:\n",
      "               precision    recall  f1-score   support\n",
      "\n",
      "           0     0.6274    0.6683    0.6472       199\n",
      "           1     0.8312    0.8045    0.8176       404\n",
      "\n",
      "    accuracy                         0.7595       603\n",
      "   macro avg     0.7293    0.7364    0.7324       603\n",
      "weighted avg     0.7639    0.7595    0.7614       603\n",
      "\n"
     ]
    },
    {
     "data": {
      "image/png": "[encoded data removed]",
      "text/plain": [
       "<Figure size 720x576 with 2 Axes>"
      ]
     },
     "metadata": {
      "needs_background": "light"
     },
     "output_type": "display_data"
    }
   ],
   "source": [
    "print(\"Relatório de Classificação:\\n\", classification_report(y_val, pred, digits=4))\n",
    "cm = confusion_matrix(y_val, y_pred)\n",
    "plt.figure(figsize=(10, 8))\n",
    "sns.heatmap(cm, annot=True, cmap='CMRmap_r', fmt='.0f', annot_kws={'size': 12})\n",
    "plt.xlabel('Predict label', fontsize=12)\n",
    "plt.ylabel('True label', fontsize=12)\n",
    "plt.show()\n"
   ]
  }
 ],
 "metadata": {
  "interpreter": {
   "hash": "916dbcbb3f70747c44a77c7bcd40155683ae19c65e1c03b4aa3499c5328201f1"
  },
  "kernelspec": {
   "display_name": "Python 3.9.5 64-bit",
   "language": "python",
   "name": "python3"
  },
  "language_info": {
   "codemirror_mode": {
    "name": "ipython",
    "version": 3
   },
   "file_extension": ".py",
   "mimetype": "text/x-python",
   "name": "python",
   "nbconvert_exporter": "python",
   "pygments_lexer": "ipython3",
   "version": "3.9.5"
  },
  "orig_nbformat": 4
 },
 "nbformat": 4,
 "nbformat_minor": 2
}
